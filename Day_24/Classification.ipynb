{
  "nbformat": 4,
  "nbformat_minor": 0,
  "metadata": {
    "colab": {
      "name": "Topic_Classification.ipynb",
      "provenance": [],
      "collapsed_sections": []
    },
    "kernelspec": {
      "name": "python3",
      "display_name": "Python 3"
    }
  },
  "cells": [
    {
      "cell_type": "markdown",
      "metadata": {
        "id": "Q_TXpazmI4hi",
        "colab_type": "text"
      },
      "source": [
        "<img align=center src=\"https://rhyme.com/assets/img/logo-dark.png\"></img>\n",
        "<h2 align=center> Topic Classification with Tensorflow and Keras</h2>"
      ]
    },
    {
      "cell_type": "markdown",
      "metadata": {
        "id": "FkDMtyFAI6eZ",
        "colab_type": "text"
      },
      "source": [
        "## Task 1: Project Overview and Import Modules"
      ]
    },
    {
      "cell_type": "code",
      "metadata": {
        "id": "u-Q0ZQ81AJAD",
        "colab_type": "code",
        "outputId": "0ac11ca4-84c6-46fa-d760-2ef8878009fe",
        "colab": {
          "base_uri": "https://localhost:8080/",
          "height": 52
        }
      },
      "source": [
        "%tensorflow_version 2.x \n",
        "%matplotlib inline\n",
        "import matplotlib.pyplot as plt\n",
        "import numpy as np\n",
        "np.random.seed(0)\n",
        "import tensorflow as tf\n",
        "from tensorflow.keras.datasets import reuters\n",
        "from tensorflow.keras.models import Sequential\n",
        "from tensorflow.keras.layers import Dense, Dropout, Activation\n",
        "from tensorflow.keras.preprocessing.text import Tokenizer\n",
        "\n",
        "print('Tensorflow version:', tf.__version__)"
      ],
      "execution_count": 1,
      "outputs": [
        {
          "output_type": "stream",
          "text": [
            "TensorFlow 2.x selected.\n",
            "Tensorflow version: 2.2.0-rc1\n"
          ],
          "name": "stdout"
        }
      ]
    },
    {
      "cell_type": "markdown",
      "metadata": {
        "id": "O_87ArymJ_HP",
        "colab_type": "text"
      },
      "source": [
        "## Task 2: Load the Reuters Dataset"
      ]
    },
    {
      "cell_type": "code",
      "metadata": {
        "id": "mvnfT5lcAJx1",
        "colab_type": "code",
        "colab": {
          "base_uri": "https://localhost:8080/",
          "height": 52
        },
        "outputId": "57f550e0-0e81-46a3-87e7-63aa1736fb7d"
      },
      "source": [
        "(x_train, y_train), (x_test, y_test) = reuters.load_data(num_words=10000, test_split=0.2)"
      ],
      "execution_count": 2,
      "outputs": [
        {
          "output_type": "stream",
          "text": [
            "Downloading data from https://storage.googleapis.com/tensorflow/tf-keras-datasets/reuters.npz\n",
            "2113536/2110848 [==============================] - 0s 0us/step\n"
          ],
          "name": "stdout"
        }
      ]
    },
    {
      "cell_type": "code",
      "metadata": {
        "id": "qiyU9CRPAJ1x",
        "colab_type": "code",
        "outputId": "9b31a4f1-30ed-4fab-9966-11942690d3fb",
        "colab": {
          "base_uri": "https://localhost:8080/",
          "height": 52
        }
      },
      "source": [
        "print(len(x_train), 'train sequences')\n",
        "print(len(x_test), 'test sequences')"
      ],
      "execution_count": 3,
      "outputs": [
        {
          "output_type": "stream",
          "text": [
            "8982 train sequences\n",
            "2246 test sequences\n"
          ],
          "name": "stdout"
        }
      ]
    },
    {
      "cell_type": "code",
      "metadata": {
        "id": "ga2yF0GDAJ4x",
        "colab_type": "code",
        "outputId": "084a84e0-7e97-485c-99e6-2494e77897ea",
        "colab": {
          "base_uri": "https://localhost:8080/",
          "height": 34
        }
      },
      "source": [
        "num_classes = np.max(y_train) + 1\n",
        "print(num_classes, 'classes')"
      ],
      "execution_count": 4,
      "outputs": [
        {
          "output_type": "stream",
          "text": [
            "46 classes\n"
          ],
          "name": "stdout"
        }
      ]
    },
    {
      "cell_type": "markdown",
      "metadata": {
        "id": "gxOfk01xO8M4",
        "colab_type": "text"
      },
      "source": [
        "## Task 3: Vectorize Sequence Data and One-hot Encode Class Labels"
      ]
    },
    {
      "cell_type": "code",
      "metadata": {
        "id": "SwY0M11JAJ6z",
        "colab_type": "code",
        "outputId": "898f7426-6c53-4903-8801-7ad8bb9b1c67",
        "colab": {
          "base_uri": "https://localhost:8080/",
          "height": 69
        }
      },
      "source": [
        "print('Vectorizing sequence data...')\n",
        "tokenizer = Tokenizer(num_words=10000)\n",
        "x_train = tokenizer.sequences_to_matrix(x_train, mode='binary')\n",
        "x_test = tokenizer.sequences_to_matrix(x_test, mode='binary')\n",
        "print('x_train shape:', x_train.shape)\n",
        "print('x_test shape:', x_test.shape)"
      ],
      "execution_count": 5,
      "outputs": [
        {
          "output_type": "stream",
          "text": [
            "Vectorizing sequence data...\n",
            "x_train shape: (8982, 10000)\n",
            "x_test shape: (2246, 10000)\n"
          ],
          "name": "stdout"
        }
      ]
    },
    {
      "cell_type": "code",
      "metadata": {
        "id": "CqSLs8-MAJ-W",
        "colab_type": "code",
        "outputId": "afbfdf1a-50c7-463e-8815-ce970dc009a7",
        "colab": {
          "base_uri": "https://localhost:8080/",
          "height": 69
        }
      },
      "source": [
        "print('Convert class vector to binary class matrix for use with categorical_crossentropy')\n",
        "y_train = tf.keras.utils.to_categorical(y_train, num_classes)\n",
        "y_test = tf.keras.utils.to_categorical(y_test, num_classes)\n",
        "print('y_train shape:', y_train.shape)\n",
        "print('y_test shape:', y_test.shape)"
      ],
      "execution_count": 6,
      "outputs": [
        {
          "output_type": "stream",
          "text": [
            "Convert class vector to binary class matrix for use with categorical_crossentropy\n",
            "y_train shape: (8982, 46)\n",
            "y_test shape: (2246, 46)\n"
          ],
          "name": "stdout"
        }
      ]
    },
    {
      "cell_type": "markdown",
      "metadata": {
        "id": "1qbdtF5MQBZW",
        "colab_type": "text"
      },
      "source": [
        "## Task 4: Build Multilayer Perceptron Model"
      ]
    },
    {
      "cell_type": "code",
      "metadata": {
        "id": "kzaPJpw99KKt",
        "colab_type": "code",
        "colab": {}
      },
      "source": [
        "model = Sequential()\n",
        "model.add(Dense(512, input_shape=(10000,)))\n",
        "model.add(Activation('relu'))\n",
        "model.add(Dropout(0.5))\n",
        "model.add(Dense(num_classes))\n",
        "model.add(Activation('softmax'))"
      ],
      "execution_count": 0,
      "outputs": []
    },
    {
      "cell_type": "code",
      "metadata": {
        "id": "_ozHzIAwBF0z",
        "colab_type": "code",
        "colab": {
          "base_uri": "https://localhost:8080/",
          "height": 330
        },
        "outputId": "995dc36b-53dd-4b81-f4c3-f9bb523d513e"
      },
      "source": [
        "model.summary()"
      ],
      "execution_count": 8,
      "outputs": [
        {
          "output_type": "stream",
          "text": [
            "Model: \"sequential\"\n",
            "_________________________________________________________________\n",
            "Layer (type)                 Output Shape              Param #   \n",
            "=================================================================\n",
            "dense (Dense)                (None, 512)               5120512   \n",
            "_________________________________________________________________\n",
            "activation (Activation)      (None, 512)               0         \n",
            "_________________________________________________________________\n",
            "dropout (Dropout)            (None, 512)               0         \n",
            "_________________________________________________________________\n",
            "dense_1 (Dense)              (None, 46)                23598     \n",
            "_________________________________________________________________\n",
            "activation_1 (Activation)    (None, 46)                0         \n",
            "=================================================================\n",
            "Total params: 5,144,110\n",
            "Trainable params: 5,144,110\n",
            "Non-trainable params: 0\n",
            "_________________________________________________________________\n"
          ],
          "name": "stdout"
        }
      ]
    },
    {
      "cell_type": "markdown",
      "metadata": {
        "id": "5-mKD7L2QKsJ",
        "colab_type": "text"
      },
      "source": [
        "## Task 5: Train Model"
      ]
    },
    {
      "cell_type": "code",
      "metadata": {
        "id": "Bjf3XLC--B6Q",
        "colab_type": "code",
        "colab": {
          "base_uri": "https://localhost:8080/",
          "height": 52
        },
        "outputId": "5f6714ae-6b6a-4464-b9fd-38f6ab7f77c4"
      },
      "source": [
        "%%time\n",
        "from tensorflow.keras.callbacks import ModelCheckpoint, EarlyStopping\n",
        "\n",
        "early_stopping = EarlyStopping(monitor='val_loss',patience=3, verbose=1, mode='min', baseline=None, restore_best_weights=False)\n",
        "callbacks = [early_stopping]\n",
        "\n",
        "model.compile(optimizer='adam',\n",
        "              loss='categorical_crossentropy',\n",
        "              metrics=['accuracy'])"
      ],
      "execution_count": 9,
      "outputs": [
        {
          "output_type": "stream",
          "text": [
            "CPU times: user 15.1 ms, sys: 774 µs, total: 15.9 ms\n",
            "Wall time: 17.3 ms\n"
          ],
          "name": "stdout"
        }
      ]
    },
    {
      "cell_type": "code",
      "metadata": {
        "id": "Y75bm-j7CKHJ",
        "colab_type": "code",
        "colab": {
          "base_uri": "https://localhost:8080/",
          "height": 208
        },
        "outputId": "d32d3604-e5cb-4844-ee52-6551c251db5e"
      },
      "source": [
        "history = model.fit(x_train, y_train,\n",
        "                    epochs=20,\n",
        "                    batch_size=32,\n",
        "                    validation_split=0.1,\n",
        "                    callbacks=callbacks)"
      ],
      "execution_count": 10,
      "outputs": [
        {
          "output_type": "stream",
          "text": [
            "Epoch 1/20\n",
            "253/253 [==============================] - 8s 32ms/step - loss: 1.2965 - accuracy: 0.7223 - val_loss: 0.9612 - val_accuracy: 0.8031\n",
            "Epoch 2/20\n",
            "253/253 [==============================] - 8s 32ms/step - loss: 0.4942 - accuracy: 0.8892 - val_loss: 0.8524 - val_accuracy: 0.8165\n",
            "Epoch 3/20\n",
            "253/253 [==============================] - 8s 32ms/step - loss: 0.2826 - accuracy: 0.9395 - val_loss: 0.9127 - val_accuracy: 0.8120\n",
            "Epoch 4/20\n",
            "253/253 [==============================] - 8s 31ms/step - loss: 0.2133 - accuracy: 0.9478 - val_loss: 0.9505 - val_accuracy: 0.8042\n",
            "Epoch 5/20\n",
            "253/253 [==============================] - 8s 31ms/step - loss: 0.1987 - accuracy: 0.9510 - val_loss: 0.9080 - val_accuracy: 0.8065\n",
            "Epoch 00005: early stopping\n"
          ],
          "name": "stdout"
        }
      ]
    },
    {
      "cell_type": "markdown",
      "metadata": {
        "id": "XNRw1etxQQqe",
        "colab_type": "text"
      },
      "source": [
        "## Task 6: Evaluate Model on Test Data"
      ]
    },
    {
      "cell_type": "code",
      "metadata": {
        "id": "FdMOQHKiAKLI",
        "colab_type": "code",
        "colab": {
          "base_uri": "https://localhost:8080/",
          "height": 69
        },
        "outputId": "4a313c45-4035-4918-92d5-25f71f21b83d"
      },
      "source": [
        "score = model.evaluate(x_test, y_test, batch_size=32, verbose=1)\n",
        "print('Test loss: {:4f}\\nTest Accuracy: {:4f}'.format(score[0], score[1]))"
      ],
      "execution_count": 32,
      "outputs": [
        {
          "output_type": "stream",
          "text": [
            "71/71 [==============================] - 0s 3ms/step - loss: 1.0031 - accuracy: 0.8010\n",
            "Test loss: 1.003070\n",
            "Test Accuracy: 0.800979\n"
          ],
          "name": "stdout"
        }
      ]
    },
    {
      "cell_type": "code",
      "metadata": {
        "id": "Qg3uXnvOAKNe",
        "colab_type": "code",
        "colab": {
          "base_uri": "https://localhost:8080/",
          "height": 295
        },
        "outputId": "82bafe70-2338-4701-afe5-ef7852760e57"
      },
      "source": [
        "plt.plot(history.history['loss'], label='Training loss')\n",
        "plt.plot(history.history['val_loss'], label='Validation loss')\n",
        "plt.title('Training and validation loss')\n",
        "plt.xlabel('Epochs')\n",
        "plt.ylabel('Loss')\n",
        "plt.legend()\n",
        "plt.show()"
      ],
      "execution_count": 33,
      "outputs": [
        {
          "output_type": "display_data",
          "data": {
            "image/png": "[encoded data removed]",
            "text/plain": [
              "<Figure size 432x288 with 1 Axes>"
            ]
          },
          "metadata": {
            "tags": []
          }
        }
      ]
    },
    {
      "cell_type": "code",
      "metadata": {
        "id": "eyM2tPyeAKRV",
        "colab_type": "code",
        "colab": {
          "base_uri": "https://localhost:8080/",
          "height": 295
        },
        "outputId": "402ebf50-9d0a-433a-e5cb-c3b8c64ea9c1"
      },
      "source": [
        "plt.plot(history.history['accuracy'], label='Training accuracy')\n",
        "plt.plot(history.history['val_accuracy'], label='Validation accuracy')\n",
        "plt.title('Training and validation accuracy')\n",
        "plt.xlabel('Epochs')\n",
        "plt.ylabel('Accuracy')\n",
        "plt.legend()\n",
        "plt.show()"
      ],
      "execution_count": 34,
      "outputs": [
        {
          "output_type": "display_data",
          "data": {
            "image/png": "[encoded data removed]",
            "text/plain": [
              "<Figure size 432x288 with 1 Axes>"
            ]
          },
          "metadata": {
            "tags": []
          }
        }
      ]
    },
    {
      "cell_type": "code",
      "metadata": {
        "id": "tGYwFMwmAK-L",
        "colab_type": "code",
        "colab": {}
      },
      "source": [
        ""
      ],
      "execution_count": 0,
      "outputs": []
    },
    {
      "cell_type": "code",
      "metadata": {
        "id": "lJQ4GSZKAKhX",
        "colab_type": "code",
        "colab": {}
      },
      "source": [
        ""
      ],
      "execution_count": 0,
      "outputs": []
    }
  ]
}